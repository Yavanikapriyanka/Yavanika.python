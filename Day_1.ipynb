{
  "nbformat": 4,
  "nbformat_minor": 0,
  "metadata": {
    "colab": {
      "name": "Day 1.ipynb",
      "provenance": [],
      "authorship_tag": "ABX9TyPI2Qc2zcqMXYaALa9IUalM",
      "include_colab_link": true
    },
    "kernelspec": {
      "name": "python3",
      "display_name": "Python 3"
    },
    "language_info": {
      "name": "python"
    }
  },
  "cells": [
    {
      "cell_type": "markdown",
      "metadata": {
        "id": "view-in-github",
        "colab_type": "text"
      },
      "source": [
        "<a href=\"https://colab.research.google.com/github/Yavanikapriyanka/Yavanika.python/blob/main/Day_1.ipynb\" target=\"_parent\"><img src=\"https://colab.research.google.com/assets/colab-badge.svg\" alt=\"Open In Colab\"/></a>"
      ]
    },
    {
      "cell_type": "code",
      "metadata": {
        "colab": {
          "base_uri": "https://localhost:8080/"
        },
        "id": "9WDBvBDZQwJZ",
        "outputId": "8f76964e-6a8d-41d5-d6ac-d1f5ec7491a7"
      },
      "source": [
        "x=[int (i) for  i in input(\"Enter value:\").split()]\n",
        "print(x)\n",
        "x.sort(reverse=True)\n",
        "print(x)\n"
      ],
      "execution_count": 4,
      "outputs": [
        {
          "output_type": "stream",
          "text": [
            "Enter value:23 45 56 78 90\n",
            "[23, 45, 56, 78, 90]\n",
            "[90, 78, 56, 45, 23]\n"
          ],
          "name": "stdout"
        }
      ]
    }
  ]
}