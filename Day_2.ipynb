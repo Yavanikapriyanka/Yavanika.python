{
  "nbformat": 4,
  "nbformat_minor": 0,
  "metadata": {
    "colab": {
      "name": "Day 2.ipynb",
      "provenance": [],
      "authorship_tag": "ABX9TyMuR4csYFj/nU86H3bXJL9R",
      "include_colab_link": true
    },
    "kernelspec": {
      "name": "python3",
      "display_name": "Python 3"
    },
    "language_info": {
      "name": "python"
    }
  },
  "cells": [
    {
      "cell_type": "markdown",
      "metadata": {
        "id": "view-in-github",
        "colab_type": "text"
      },
      "source": [
        "<a href=\"https://colab.research.google.com/github/Yavanikapriyanka/Yavanika.python/blob/main/Day_2.ipynb\" target=\"_parent\"><img src=\"https://colab.research.google.com/assets/colab-badge.svg\" alt=\"Open In Colab\"/></a>"
      ]
    },
    {
      "cell_type": "code",
      "metadata": {
        "colab": {
          "base_uri": "https://localhost:8080/"
        },
        "id": "SVgP7qLAHUaf",
        "outputId": "d5dab877-8f7e-4a95-b65a-4734bdbb70eb"
      },
      "source": [
        "#DAY 2 ASSIGNMENT\n",
        "#to remove all the occurenece of an elemnt in a list\n",
        "li=[1,2,3,3,4]\n",
        "print(li)\n",
        "list(filter(lambda a:a!=3,li))"
      ],
      "execution_count": 1,
      "outputs": [
        {
          "output_type": "stream",
          "text": [
            "[1, 2, 3, 3, 4]\n"
          ],
          "name": "stdout"
        },
        {
          "output_type": "execute_result",
          "data": {
            "text/plain": [
              "[1, 2, 4]"
            ]
          },
          "metadata": {
            "tags": []
          },
          "execution_count": 1
        }
      ]
    },
    {
      "cell_type": "code",
      "metadata": {
        "colab": {
          "base_uri": "https://localhost:8080/"
        },
        "id": "erAEwZ4nHkKj",
        "outputId": "250d335d-5fc4-4ed7-bce8-ae82647a27a0"
      },
      "source": [
        "#PROJECT :TO GENERATE A OTP\n",
        "import random\n",
        "import string\n",
        "length= 8\n",
        "otp= ''\n",
        "characters = string.ascii_letters+ string.digits\n",
        "for i in range(length):\n",
        "  otp = otp + random.choice(characters)\n",
        "print('OTP',otp)\n"
      ],
      "execution_count": 2,
      "outputs": [
        {
          "output_type": "stream",
          "text": [
            "OTP RWTcg5DX\n"
          ],
          "name": "stdout"
        }
      ]
    }
  ]
}